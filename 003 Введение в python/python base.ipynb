{
 "cells": [
  {
   "cell_type": "markdown",
   "id": "9d8c8f08",
   "metadata": {},
   "source": [
    "## Автор: Петр Ермаков / ermakovpetr\n",
    "## Лекция: Введение в python\n",
    "*Лицензия: CC BY-NC-SA 4.0,*\n",
    "\n",
    "*для коммерческого использования связаться с автором*"
   ]
  },
  {
   "cell_type": "markdown",
   "id": "06448cca",
   "metadata": {},
   "source": [
    "NB: \n",
    "\n",
    "    - это не исчерпывающее руководство, но достаточное, на мой взгляд, для старта\n",
    "\n",
    "    - все субъективные оценки - мнение автора\n",
    "    \n",
    "    - намерено сделаны упрощения и упущения, чтобы не переусложнить и без того сложную тему для новичков\n",
    "    \n",
    "    - все демонстрируется на версии python 3.9.10"
   ]
  },
  {
   "cell_type": "markdown",
   "id": "f237f5fa",
   "metadata": {},
   "source": [
    "### Переменные и комментарии"
   ]
  },
  {
   "cell_type": "code",
   "execution_count": 1,
   "id": "edbc6123",
   "metadata": {},
   "outputs": [],
   "source": [
    "variable = 10  # не указываем тип как, например, Java"
   ]
  },
  {
   "cell_type": "markdown",
   "id": "858f909e",
   "metadata": {},
   "source": [
    "имя = значение"
   ]
  },
  {
   "cell_type": "markdown",
   "id": "e323499b",
   "metadata": {},
   "source": [
    "\\# и коммент до конца строки"
   ]
  },
  {
   "cell_type": "code",
   "execution_count": 2,
   "id": "33bea2d6",
   "metadata": {},
   "outputs": [
    {
     "name": "stdout",
     "output_type": "stream",
     "text": [
      "10\n"
     ]
    }
   ],
   "source": [
    "print(variable)"
   ]
  },
  {
   "cell_type": "code",
   "execution_count": 3,
   "id": "5b850b2a",
   "metadata": {},
   "outputs": [],
   "source": [
    "# а код ниже выпрлнен не будет, так как это комментарий\n",
    "# print(variable)"
   ]
  },
  {
   "cell_type": "markdown",
   "id": "bda30295",
   "metadata": {},
   "source": [
    "Обратите внимание на переменную:\n",
    "\n",
    "    - мы не объявляляем заранее переменную\n",
    "\n",
    "    - мы не указываем тип\n",
    "    \n",
    "Обратите внимание на комментарий:\n",
    "\n",
    "    - он действует только с первой #\n",
    "    \n",
    "    - действует до конца строки\n",
    "    \n",
    "    - начав комментарий на строки, его не \"остановить\", теперь все комментарий до конца строки\n",
    "    \n",
    "    - он однострочный"
   ]
  },
  {
   "cell_type": "code",
   "execution_count": 4,
   "id": "8cf31267",
   "metadata": {},
   "outputs": [],
   "source": [
    "variable = 15"
   ]
  },
  {
   "cell_type": "code",
   "execution_count": 5,
   "id": "459df87e",
   "metadata": {},
   "outputs": [
    {
     "name": "stdout",
     "output_type": "stream",
     "text": [
      "15\n"
     ]
    }
   ],
   "source": [
    "print(variable)"
   ]
  },
  {
   "cell_type": "code",
   "execution_count": 6,
   "id": "cae8dab3",
   "metadata": {},
   "outputs": [],
   "source": [
    "variable = 'string_petr'"
   ]
  },
  {
   "cell_type": "code",
   "execution_count": 7,
   "id": "7a1805b3",
   "metadata": {},
   "outputs": [
    {
     "name": "stdout",
     "output_type": "stream",
     "text": [
      "string_petr\n"
     ]
    }
   ],
   "source": [
    "print(variable)"
   ]
  },
  {
   "cell_type": "markdown",
   "id": "73251011",
   "metadata": {},
   "source": [
    "Круто же, \"переобулись на лету\"\n",
    "\n",
    "Это динамическая типизация\n",
    "\n",
    "Тип у переменной возникает в момент выполнения"
   ]
  },
  {
   "cell_type": "code",
   "execution_count": 8,
   "id": "bd257188",
   "metadata": {},
   "outputs": [
    {
     "name": "stdout",
     "output_type": "stream",
     "text": [
      "10 10 10\n"
     ]
    }
   ],
   "source": [
    "переменная = 10\n",
    "va_r = 10\n",
    "BlaBLAbla = 10\n",
    "print(переменная, va_r, BlaBLAbla)"
   ]
  },
  {
   "cell_type": "markdown",
   "id": "37f5831f",
   "metadata": {},
   "source": [
    "Но часть из этих примеров, плохой тон\n",
    "\n",
    "Я рекомендую использовать имена переменных:\n",
    "\n",
    "    - только латиницей\n",
    "    \n",
    "    - не транслит peremennoj, а английские названия\n",
    "    \n",
    "    - короткие имена переменных (a, b, i, j, k, x, y, ...) используйте в особых случая (позже расскажем в каких)\n",
    "    \n",
    "    - название переменной должно соответствовать содержимому: distance, address, ...\n",
    "    \n",
    "    - если хотите сделать название переменной из нескольких слов, используйте символ нижнего подчеркивания _\n",
    "    \n",
    "    - использовать только заглавные или только маленькие буквы\n",
    "\n",
    "        - заглавные для констант (переменную которую установили один раз и больше менять не планируете)\n",
    "        \n",
    "        - для остальных случаев маленькие"
   ]
  },
  {
   "cell_type": "code",
   "execution_count": 9,
   "id": "2d83aec2",
   "metadata": {},
   "outputs": [],
   "source": [
    "LENGTH_OF_EARTH_EQUATOR = 40075\n",
    "speed_runner = 21\n",
    "next_phone_number = '274-10-01'"
   ]
  },
  {
   "cell_type": "markdown",
   "id": "ed0c6f12",
   "metadata": {},
   "source": [
    "Такой стиль имеет название - snake_case\n",
    "\n",
    "Альтернатива - CamelCase\n",
    "\n",
    "Но в python использовать CamelCase для названия переменных - дурной тон"
   ]
  },
  {
   "cell_type": "markdown",
   "id": "a055056d",
   "metadata": {},
   "source": [
    "Давайте посмотрим пока на 2 числовых типа переменных в python\n",
    "\n",
    "    - целые числа\n",
    "\n",
    "    - вещественные числа\n",
    "    \n",
    "Есть еще комплексные, но они нам пока не нужны"
   ]
  },
  {
   "cell_type": "code",
   "execution_count": 10,
   "id": "f29aee36",
   "metadata": {},
   "outputs": [],
   "source": [
    "int_variable_1 = 1_000_000\n",
    "int_variable_2 = -3\n",
    "int_variable_3 = 0\n",
    "int_variable_4 = 9174098397298719248135710849173"
   ]
  },
  {
   "cell_type": "code",
   "execution_count": 11,
   "id": "1a2bff3f",
   "metadata": {},
   "outputs": [
    {
     "name": "stdout",
     "output_type": "stream",
     "text": [
      "1000000\n"
     ]
    }
   ],
   "source": [
    "print(int_variable_1)"
   ]
  },
  {
   "cell_type": "markdown",
   "id": "84f36ecb",
   "metadata": {},
   "source": [
    "Это целые числа, ограничения нет, именуется **int**"
   ]
  },
  {
   "cell_type": "code",
   "execution_count": 12,
   "id": "4af73b9d",
   "metadata": {},
   "outputs": [
    {
     "data": {
      "text/plain": [
       "int"
      ]
     },
     "execution_count": 12,
     "metadata": {},
     "output_type": "execute_result"
    }
   ],
   "source": [
    "type(int_variable_4)"
   ]
  },
  {
   "cell_type": "code",
   "execution_count": 13,
   "id": "defef228",
   "metadata": {},
   "outputs": [],
   "source": [
    "float_variable_1 = .01\n",
    "float_variable_2 = -3.1415926535  # в видео тут была ошибка и вместо точки стояла запятая\n",
    "# так вот, должна быть точка! в вещественных числах в python-е - точка!\n",
    "float_variable_3 = 10.0\n",
    "float_variable_4 = 0.000000000001"
   ]
  },
  {
   "cell_type": "code",
   "execution_count": 14,
   "id": "79c907e0",
   "metadata": {},
   "outputs": [
    {
     "name": "stdout",
     "output_type": "stream",
     "text": [
      "0.01\n"
     ]
    }
   ],
   "source": [
    "print(float_variable_1)"
   ]
  },
  {
   "cell_type": "markdown",
   "id": "33543bf5",
   "metadata": {},
   "source": [
    "Это целые числа, ограничения нет, именуется **float**"
   ]
  },
  {
   "cell_type": "code",
   "execution_count": 15,
   "id": "597f0ae2",
   "metadata": {},
   "outputs": [
    {
     "data": {
      "text/plain": [
       "float"
      ]
     },
     "execution_count": 15,
     "metadata": {},
     "output_type": "execute_result"
    }
   ],
   "source": [
    "type(float_variable_3)"
   ]
  },
  {
   "cell_type": "markdown",
   "id": "a10e398c",
   "metadata": {},
   "source": [
    "Что можно делать с числами?\n",
    "Как в школе - арифметические операции:"
   ]
  },
  {
   "cell_type": "markdown",
   "id": "155ad5ed",
   "metadata": {},
   "source": [
    "Сложение: +\n",
    "    \n",
    "Вычитание: -\n",
    "\n",
    "Умножение: *\n",
    "\n",
    "Деление: /\n",
    "\n",
    "Целочисленное деление: //\n",
    "\n",
    "Остаток от деления: %\n",
    "    \n",
    "Возведение в степень: **"
   ]
  },
  {
   "cell_type": "code",
   "execution_count": 16,
   "id": "5faee511",
   "metadata": {},
   "outputs": [
    {
     "data": {
      "text/plain": [
       "128"
      ]
     },
     "execution_count": 16,
     "metadata": {},
     "output_type": "execute_result"
    }
   ],
   "source": [
    "123 + 5"
   ]
  },
  {
   "cell_type": "code",
   "execution_count": 17,
   "id": "c1461ef2",
   "metadata": {},
   "outputs": [
    {
     "data": {
      "text/plain": [
       "41"
      ]
     },
     "execution_count": 17,
     "metadata": {},
     "output_type": "execute_result"
    }
   ],
   "source": [
    "42 - 1"
   ]
  },
  {
   "cell_type": "code",
   "execution_count": 18,
   "id": "dd1fa468",
   "metadata": {},
   "outputs": [
    {
     "data": {
      "text/plain": [
       "45.0"
      ]
     },
     "execution_count": 18,
     "metadata": {},
     "output_type": "execute_result"
    }
   ],
   "source": [
    "5 * 9.0"
   ]
  },
  {
   "cell_type": "code",
   "execution_count": 19,
   "id": "d55dc73d",
   "metadata": {},
   "outputs": [
    {
     "data": {
      "text/plain": [
       "111.0"
      ]
     },
     "execution_count": 19,
     "metadata": {},
     "output_type": "execute_result"
    }
   ],
   "source": [
    "999 / 9"
   ]
  },
  {
   "cell_type": "code",
   "execution_count": 20,
   "id": "0643b3fc",
   "metadata": {},
   "outputs": [
    {
     "data": {
      "text/plain": [
       "3"
      ]
     },
     "execution_count": 20,
     "metadata": {},
     "output_type": "execute_result"
    }
   ],
   "source": [
    "123 % 10"
   ]
  },
  {
   "cell_type": "code",
   "execution_count": 21,
   "id": "1cbfed69",
   "metadata": {},
   "outputs": [
    {
     "data": {
      "text/plain": [
       "2"
      ]
     },
     "execution_count": 21,
     "metadata": {},
     "output_type": "execute_result"
    }
   ],
   "source": [
    "11 % 3"
   ]
  },
  {
   "cell_type": "code",
   "execution_count": 22,
   "id": "e81f5360",
   "metadata": {},
   "outputs": [
    {
     "data": {
      "text/plain": [
       "1024"
      ]
     },
     "execution_count": 22,
     "metadata": {},
     "output_type": "execute_result"
    }
   ],
   "source": [
    "2 ** 10"
   ]
  },
  {
   "cell_type": "code",
   "execution_count": 22,
   "id": "2b846b17",
   "metadata": {},
   "outputs": [
    {
     "name": "stdout",
     "output_type": "stream",
     "text": [
      "133\n"
     ]
    }
   ],
   "source": [
    "# тоже само на переменных\n",
    "\n",
    "a = 123\n",
    "b = 10\n",
    "c = a + b\n",
    "print(c)"
   ]
  },
  {
   "cell_type": "code",
   "execution_count": 23,
   "id": "955e1065",
   "metadata": {},
   "outputs": [
    {
     "name": "stdout",
     "output_type": "stream",
     "text": [
      "133\n"
     ]
    }
   ],
   "source": [
    "# иногда нужно записать результат в переменную,\n",
    "# которая уже участвует в операции\n",
    "\n",
    "a = 123\n",
    "b = 10\n",
    "a = a + b\n",
    "print(a)"
   ]
  },
  {
   "cell_type": "code",
   "execution_count": 24,
   "id": "9b544257",
   "metadata": {},
   "outputs": [
    {
     "name": "stdout",
     "output_type": "stream",
     "text": [
      "133\n"
     ]
    }
   ],
   "source": [
    "# запись выше можно сократить \n",
    "\n",
    "a = 123\n",
    "b = 10\n",
    "a += b  # тоже самое, что a + b\n",
    "print(a)"
   ]
  },
  {
   "cell_type": "code",
   "execution_count": 25,
   "id": "5216996b",
   "metadata": {},
   "outputs": [
    {
     "name": "stdout",
     "output_type": "stream",
     "text": [
      "12.3\n"
     ]
    }
   ],
   "source": [
    "# работает и с другими операциями\n",
    "\n",
    "a = 123\n",
    "b = 10\n",
    "a /= b\n",
    "print(a)"
   ]
  },
  {
   "cell_type": "code",
   "execution_count": 26,
   "id": "0780be66",
   "metadata": {},
   "outputs": [
    {
     "name": "stdout",
     "output_type": "stream",
     "text": [
      "3\n"
     ]
    }
   ],
   "source": [
    "# говорю же, работает\n",
    "\n",
    "a = 123\n",
    "b = 10\n",
    "a %= b\n",
    "print(a)"
   ]
  },
  {
   "cell_type": "markdown",
   "id": "5ee74fad",
   "metadata": {},
   "source": [
    "Есть еще битовые операции, их тоже пока не рассматриваем"
   ]
  },
  {
   "cell_type": "markdown",
   "id": "6ca68fd9",
   "metadata": {},
   "source": [
    "### Строки"
   ]
  },
  {
   "cell_type": "code",
   "execution_count": 28,
   "id": "ac61c256",
   "metadata": {},
   "outputs": [
    {
     "name": "stdout",
     "output_type": "stream",
     "text": [
      "Строка\n",
      "Стр'ока\n",
      "Строка\n",
      "Строка\n"
     ]
    }
   ],
   "source": [
    "string_variable = 'Строка'\n",
    "print(string_variable)\n",
    "\n",
    "string_variable = \"Стр'ока\"\n",
    "print(string_variable)\n",
    "\n",
    "string_variable = '''Строка'''\n",
    "print(string_variable)\n",
    "\n",
    "string_variable = \"\"\"Строка\"\"\"\n",
    "print(string_variable)"
   ]
  },
  {
   "cell_type": "code",
   "execution_count": 29,
   "id": "83b892e0",
   "metadata": {},
   "outputs": [
    {
     "data": {
      "text/plain": [
       "str"
      ]
     },
     "execution_count": 29,
     "metadata": {},
     "output_type": "execute_result"
    }
   ],
   "source": [
    "type(string_variable)"
   ]
  },
  {
   "cell_type": "code",
   "execution_count": 30,
   "id": "b6e318fc",
   "metadata": {},
   "outputs": [
    {
     "name": "stdout",
     "output_type": "stream",
     "text": [
      "Это\n",
      "многострочная\n",
      "строка\n"
     ]
    }
   ],
   "source": [
    "text_variable = '''Это\n",
    "многострочная\n",
    "строка'''\n",
    "print(text_variable)"
   ]
  },
  {
   "cell_type": "code",
   "execution_count": 31,
   "id": "d10a8f76",
   "metadata": {},
   "outputs": [
    {
     "name": "stdout",
     "output_type": "stream",
     "text": [
      "Это тоже\n",
      "многострочная\n",
      "строка\n"
     ]
    }
   ],
   "source": [
    "text_variable = \"\"\"Это тоже\n",
    "многострочная\n",
    "строка\"\"\"\n",
    "print(text_variable)"
   ]
  },
  {
   "cell_type": "code",
   "execution_count": 32,
   "id": "efdf9d1d",
   "metadata": {},
   "outputs": [
    {
     "name": "stdout",
     "output_type": "stream",
     "text": [
      "В\tстроках\n",
      "можно\tиспользовать\n",
      "специальные\tсимволы\n"
     ]
    }
   ],
   "source": [
    "text_variable = \"\"\"В\\tстроках\\nможно\\tиспользовать\\nспециальные\\tсимволы\"\"\"\n",
    "print(text_variable)"
   ]
  },
  {
   "cell_type": "markdown",
   "id": "4b44e0b4",
   "metadata": {},
   "source": [
    "Что можно делать со строками?\n",
    "\n",
    "Их можно складывать (конкатенация)"
   ]
  },
  {
   "cell_type": "code",
   "execution_count": 33,
   "id": "d2c497bf",
   "metadata": {},
   "outputs": [
    {
     "data": {
      "text/plain": [
       "'левоправо'"
      ]
     },
     "execution_count": 33,
     "metadata": {},
     "output_type": "execute_result"
    }
   ],
   "source": [
    "'лево' + 'право'"
   ]
  },
  {
   "cell_type": "code",
   "execution_count": 34,
   "id": "d2db9f71",
   "metadata": {},
   "outputs": [
    {
     "name": "stdout",
     "output_type": "stream",
     "text": [
      "лево право\n"
     ]
    }
   ],
   "source": [
    "# аналогично, можно складывать строковые переменные\n",
    "\n",
    "str_1 = 'лево'\n",
    "str_2 = 'право'\n",
    "print(str_1 + ' ' + str_2)"
   ]
  },
  {
   "cell_type": "markdown",
   "id": "3ae1933b",
   "metadata": {},
   "source": [
    "Строки можно умножать на число:"
   ]
  },
  {
   "cell_type": "code",
   "execution_count": 35,
   "id": "1a2f1694",
   "metadata": {},
   "outputs": [
    {
     "data": {
      "text/plain": [
       "'учитьсяучитьсяучиться'"
      ]
     },
     "execution_count": 35,
     "metadata": {},
     "output_type": "execute_result"
    }
   ],
   "source": [
    "'учиться' * 3"
   ]
  },
  {
   "cell_type": "code",
   "execution_count": 36,
   "id": "7692f5cb",
   "metadata": {},
   "outputs": [
    {
     "data": {
      "text/plain": [
       "'##################################################'"
      ]
     },
     "execution_count": 36,
     "metadata": {},
     "output_type": "execute_result"
    }
   ],
   "source": [
    "'#' * 50"
   ]
  },
  {
   "cell_type": "code",
   "execution_count": 37,
   "id": "f0d717de",
   "metadata": {},
   "outputs": [
    {
     "name": "stdout",
     "output_type": "stream",
     "text": [
      "фигачить фигачить фигачить фигачить фигачить \n"
     ]
    }
   ],
   "source": [
    "action = 'фигачить '\n",
    "action *= 5\n",
    "print(action)"
   ]
  },
  {
   "cell_type": "markdown",
   "id": "40e7362a",
   "metadata": {},
   "source": [
    "А еще есть конструкция **len**"
   ]
  },
  {
   "cell_type": "code",
   "execution_count": 38,
   "id": "92a4b68c",
   "metadata": {},
   "outputs": [
    {
     "data": {
      "text/plain": [
       "45"
      ]
     },
     "execution_count": 38,
     "metadata": {},
     "output_type": "execute_result"
    }
   ],
   "source": [
    "len(action)"
   ]
  },
  {
   "cell_type": "markdown",
   "id": "1d20e5d8",
   "metadata": {},
   "source": [
    "Считает количество символов строки - длина строки"
   ]
  },
  {
   "cell_type": "markdown",
   "id": "538dca8c",
   "metadata": {},
   "source": [
    "А что будет, если сложить строку и число?"
   ]
  },
  {
   "cell_type": "code",
   "execution_count": 39,
   "id": "0beabb21",
   "metadata": {},
   "outputs": [
    {
     "data": {
      "text/plain": [
       "5"
      ]
     },
     "execution_count": 39,
     "metadata": {},
     "output_type": "execute_result"
    }
   ],
   "source": [
    "int('2') + 3"
   ]
  },
  {
   "cell_type": "markdown",
   "id": "66e472b3",
   "metadata": {},
   "source": [
    "Типизация в python не только динамичная, но и строгая (сильная)"
   ]
  },
  {
   "cell_type": "markdown",
   "id": "de8d368e",
   "metadata": {},
   "source": [
    "### Списки (list)"
   ]
  },
  {
   "cell_type": "code",
   "execution_count": 40,
   "id": "25b2a9d3",
   "metadata": {},
   "outputs": [
    {
     "data": {
      "text/plain": [
       "[1, 2, 3]"
      ]
     },
     "execution_count": 40,
     "metadata": {},
     "output_type": "execute_result"
    }
   ],
   "source": [
    "[1, 2, 3]"
   ]
  },
  {
   "cell_type": "code",
   "execution_count": 41,
   "id": "67497160",
   "metadata": {},
   "outputs": [],
   "source": [
    "list_of_ints = [1, 2, 3, 4, 5, 6, 7, 8, 9, 10]"
   ]
  },
  {
   "cell_type": "code",
   "execution_count": 42,
   "id": "120a69d6",
   "metadata": {},
   "outputs": [
    {
     "name": "stdout",
     "output_type": "stream",
     "text": [
      "['знаешь', 'ли', 'ты']\n"
     ]
    }
   ],
   "source": [
    "list_of_words = ['знаешь', 'ли', 'ты']\n",
    "print(list_of_words)"
   ]
  },
  {
   "cell_type": "code",
   "execution_count": 43,
   "id": "c7af0636",
   "metadata": {},
   "outputs": [
    {
     "data": {
      "text/plain": [
       "[]"
      ]
     },
     "execution_count": 43,
     "metadata": {},
     "output_type": "execute_result"
    }
   ],
   "source": [
    "[]"
   ]
  },
  {
   "cell_type": "markdown",
   "id": "9af636d5",
   "metadata": {},
   "source": [
    "А еще списки могут содержать разные типы"
   ]
  },
  {
   "cell_type": "code",
   "execution_count": 44,
   "id": "50ecc5df",
   "metadata": {},
   "outputs": [
    {
     "name": "stdout",
     "output_type": "stream",
     "text": [
      "[123, -3.14, 'строка', [], [2, 'еще строка']]\n"
     ]
    }
   ],
   "source": [
    "wow_list = [123, -3.14, 'строка', [], [2, 'еще строка']]\n",
    "print(wow_list)"
   ]
  },
  {
   "cell_type": "code",
   "execution_count": 45,
   "id": "f3cf0428",
   "metadata": {},
   "outputs": [
    {
     "data": {
      "text/plain": [
       "list"
      ]
     },
     "execution_count": 45,
     "metadata": {},
     "output_type": "execute_result"
    }
   ],
   "source": [
    "type(wow_list)"
   ]
  },
  {
   "cell_type": "markdown",
   "id": "9d60ea8c",
   "metadata": {},
   "source": [
    "Список упорядочен, т.е. порядок сохраняется\n",
    "\n",
    "Потому мы можем обратиться к элементу"
   ]
  },
  {
   "cell_type": "code",
   "execution_count": 46,
   "id": "b2b769dc",
   "metadata": {},
   "outputs": [
    {
     "data": {
      "text/plain": [
       "'да'"
      ]
     },
     "execution_count": 46,
     "metadata": {},
     "output_type": "execute_result"
    }
   ],
   "source": [
    "joda_words = ['да', 'пребудет', 'с тобой', 'удача']\n",
    "joda_words[0]\n",
    "\n",
    "# нумерация в списке с нуля"
   ]
  },
  {
   "cell_type": "code",
   "execution_count": 47,
   "id": "43b01273",
   "metadata": {},
   "outputs": [
    {
     "data": {
      "text/plain": [
       "'пребудет'"
      ]
     },
     "execution_count": 47,
     "metadata": {},
     "output_type": "execute_result"
    }
   ],
   "source": [
    "joda_words[1]"
   ]
  },
  {
   "cell_type": "code",
   "execution_count": 48,
   "id": "65677c23",
   "metadata": {},
   "outputs": [
    {
     "data": {
      "text/plain": [
       "'удача'"
      ]
     },
     "execution_count": 48,
     "metadata": {},
     "output_type": "execute_result"
    }
   ],
   "source": [
    "joda_words[3]"
   ]
  },
  {
   "cell_type": "code",
   "execution_count": 50,
   "id": "104116a4",
   "metadata": {},
   "outputs": [],
   "source": [
    "# можно не только взять определенный элемент\n",
    "# а даже поменять\n",
    "\n",
    "joda_words[3] = 'сила'"
   ]
  },
  {
   "cell_type": "code",
   "execution_count": 51,
   "id": "7f7572a4",
   "metadata": {},
   "outputs": [
    {
     "name": "stdout",
     "output_type": "stream",
     "text": [
      "['да', 'пребудет', 'с тобой', 'сила']\n"
     ]
    }
   ],
   "source": [
    "print(joda_words)"
   ]
  },
  {
   "cell_type": "code",
   "execution_count": 52,
   "id": "8a72f453",
   "metadata": {},
   "outputs": [
    {
     "data": {
      "text/plain": [
       "['пребудет', 'с тобой', 'сила']"
      ]
     },
     "execution_count": 52,
     "metadata": {},
     "output_type": "execute_result"
    }
   ],
   "source": [
    "# взять от\n",
    "\n",
    "joda_words[1:]"
   ]
  },
  {
   "cell_type": "code",
   "execution_count": 53,
   "id": "4f6e749f",
   "metadata": {},
   "outputs": [
    {
     "data": {
      "text/plain": [
       "['да', 'пребудет', 'с тобой', 'сила']"
      ]
     },
     "execution_count": 53,
     "metadata": {},
     "output_type": "execute_result"
    }
   ],
   "source": [
    "# взять до\n",
    "\n",
    "joda_words[:4]"
   ]
  },
  {
   "cell_type": "code",
   "execution_count": 54,
   "id": "40a68cb5",
   "metadata": {},
   "outputs": [
    {
     "data": {
      "text/plain": [
       "['пребудет', 'с тобой']"
      ]
     },
     "execution_count": 54,
     "metadata": {},
     "output_type": "execute_result"
    }
   ],
   "source": [
    "# взять от и до\n",
    "\n",
    "joda_words[1:3]"
   ]
  },
  {
   "cell_type": "code",
   "execution_count": 58,
   "id": "a3d2c2fd",
   "metadata": {},
   "outputs": [
    {
     "name": "stdout",
     "output_type": "stream",
     "text": [
      "[1, 2, 3, 4, 5, 6, 7, 8, 9, 10]\n",
      "[4]\n"
     ]
    }
   ],
   "source": [
    "# взять от и до с шагом\n",
    "\n",
    "print(list_of_ints)\n",
    "print(list_of_ints[3:9:10])"
   ]
  },
  {
   "cell_type": "code",
   "execution_count": 59,
   "id": "f3ad101a",
   "metadata": {},
   "outputs": [
    {
     "data": {
      "text/plain": [
       "[1, 4, 7, 10]"
      ]
     },
     "execution_count": 59,
     "metadata": {},
     "output_type": "execute_result"
    }
   ],
   "source": [
    "# можно оставить только шаг\n",
    "\n",
    "list_of_ints[::3]"
   ]
  },
  {
   "cell_type": "code",
   "execution_count": 60,
   "id": "fadf2aa2",
   "metadata": {},
   "outputs": [
    {
     "data": {
      "text/plain": [
       "['сила', 'с тобой', 'пребудет', 'да']"
      ]
     },
     "execution_count": 60,
     "metadata": {},
     "output_type": "execute_result"
    }
   ],
   "source": [
    "# а еще можно использовать отрицательный шаг - обратный порядок\n",
    "\n",
    "joda_words[::-1]"
   ]
  },
  {
   "cell_type": "code",
   "execution_count": 61,
   "id": "8d84dd61",
   "metadata": {},
   "outputs": [
    {
     "name": "stdout",
     "output_type": "stream",
     "text": [
      "[1, 2, 3, 4, 5, 6, 7, 8, 9, 10]\n",
      "[3, 5, 7]\n"
     ]
    }
   ],
   "source": [
    "# и не только шаг\n",
    "\n",
    "print(list_of_ints)\n",
    "print(list_of_ints[2:-2:2])"
   ]
  },
  {
   "cell_type": "code",
   "execution_count": 62,
   "id": "18520fae",
   "metadata": {},
   "outputs": [
    {
     "name": "stdout",
     "output_type": "stream",
     "text": [
      "[4, 5, 6, 7, 8]\n"
     ]
    }
   ],
   "source": [
    "# бдыщ\n",
    "\n",
    "print(list_of_ints[-7:-2])"
   ]
  },
  {
   "cell_type": "code",
   "execution_count": 63,
   "id": "e9952ac9",
   "metadata": {},
   "outputs": [
    {
     "name": "stdout",
     "output_type": "stream",
     "text": [
      "[1, 2, 3, 4, 5, 6, 7, 8, 9, 10]\n",
      "[1, 2, 3, 4, 5, 6, 7, 8, 9, 10]\n",
      "[1, 2, 3, 4, 5, 6, 7, 8, 9, 10]\n"
     ]
    }
   ],
   "source": [
    "print(list_of_ints)\n",
    "\n",
    "print(list_of_ints[:])\n",
    "\n",
    "print(list_of_ints[::])"
   ]
  },
  {
   "cell_type": "markdown",
   "id": "6040e5f2",
   "metadata": {},
   "source": [
    "### Операции над списками"
   ]
  },
  {
   "cell_type": "code",
   "execution_count": 64,
   "id": "afd670c0",
   "metadata": {},
   "outputs": [
    {
     "name": "stdout",
     "output_type": "stream",
     "text": [
      "[1, 2, 3, 'a', 'b', 'c']\n",
      "[1, 2, 3, 1, 2, 3, 1, 2, 3]\n",
      "4\n"
     ]
    }
   ],
   "source": [
    "print([1, 2, 3] + ['a', 'b', 'c'])\n",
    "print([1, 2, 3] * 3)\n",
    "print(len(joda_words))"
   ]
  },
  {
   "cell_type": "markdown",
   "id": "652d3c8c",
   "metadata": {},
   "source": [
    "Похоже на строки, да?"
   ]
  },
  {
   "cell_type": "markdown",
   "id": "0370b30b",
   "metadata": {},
   "source": [
    "В строках работает и операции выше для списков"
   ]
  },
  {
   "cell_type": "code",
   "execution_count": 65,
   "id": "8a036b9e",
   "metadata": {},
   "outputs": [],
   "source": [
    "yet_another_string = 'перегрузиться'"
   ]
  },
  {
   "cell_type": "code",
   "execution_count": 66,
   "id": "94398a01",
   "metadata": {},
   "outputs": [
    {
     "data": {
      "text/plain": [
       "'г'"
      ]
     },
     "execution_count": 66,
     "metadata": {},
     "output_type": "execute_result"
    }
   ],
   "source": [
    "yet_another_string[4]"
   ]
  },
  {
   "cell_type": "code",
   "execution_count": 67,
   "id": "53ab7e43",
   "metadata": {},
   "outputs": [
    {
     "data": {
      "text/plain": [
       "'грузить'"
      ]
     },
     "execution_count": 67,
     "metadata": {},
     "output_type": "execute_result"
    }
   ],
   "source": [
    "yet_another_string[4:-2]"
   ]
  },
  {
   "cell_type": "code",
   "execution_count": 68,
   "id": "1b3c5481",
   "metadata": {},
   "outputs": [
    {
     "data": {
      "text/plain": [
       "'ясьтизургереп'"
      ]
     },
     "execution_count": 68,
     "metadata": {},
     "output_type": "execute_result"
    }
   ],
   "source": [
    "yet_another_string[::-1]"
   ]
  },
  {
   "cell_type": "markdown",
   "id": "10883323",
   "metadata": {},
   "source": [
    "Еще одно - сортировка"
   ]
  },
  {
   "cell_type": "code",
   "execution_count": 69,
   "id": "b45722aa",
   "metadata": {},
   "outputs": [],
   "source": [
    "numbers = [4, 3, 2, 7, -1, 1]"
   ]
  },
  {
   "cell_type": "code",
   "execution_count": 70,
   "id": "c4bafdfe",
   "metadata": {},
   "outputs": [
    {
     "name": "stdout",
     "output_type": "stream",
     "text": [
      "[4, 3, 2, 7, -1, 1]\n",
      "[-1, 1, 2, 3, 4, 7]\n"
     ]
    }
   ],
   "source": [
    "print(numbers)\n",
    "print(sorted(numbers))"
   ]
  },
  {
   "cell_type": "code",
   "execution_count": 71,
   "id": "5d226604",
   "metadata": {},
   "outputs": [],
   "source": [
    "new_joda = ['поистине', 'замечательным', 'ум', 'ребенка', 'является']"
   ]
  },
  {
   "cell_type": "code",
   "execution_count": 72,
   "id": "d93d2019",
   "metadata": {},
   "outputs": [
    {
     "name": "stdout",
     "output_type": "stream",
     "text": [
      "['поистине', 'замечательным', 'ум', 'ребенка', 'является']\n",
      "['замечательным', 'поистине', 'ребенка', 'ум', 'является']\n"
     ]
    }
   ],
   "source": [
    "print(new_joda)\n",
    "print(sorted(new_joda))"
   ]
  },
  {
   "cell_type": "markdown",
   "id": "539c75ca",
   "metadata": {},
   "source": [
    "А раз строки похожи на массивы, как отработает сортировка?"
   ]
  },
  {
   "cell_type": "code",
   "execution_count": 73,
   "id": "529abbb1",
   "metadata": {},
   "outputs": [
    {
     "data": {
      "text/plain": [
       "['г', 'е', 'е', 'з', 'и', 'п', 'р', 'р', 'с', 'т', 'у', 'ь', 'я']"
      ]
     },
     "execution_count": 73,
     "metadata": {},
     "output_type": "execute_result"
    }
   ],
   "source": [
    "sorted(yet_another_string)"
   ]
  },
  {
   "cell_type": "code",
   "execution_count": 74,
   "id": "a72ffb05",
   "metadata": {},
   "outputs": [],
   "source": [
    "# ну такое"
   ]
  },
  {
   "cell_type": "markdown",
   "id": "c2f11837",
   "metadata": {},
   "source": [
    "### Булевы значения"
   ]
  },
  {
   "cell_type": "markdown",
   "id": "98e2a4df",
   "metadata": {},
   "source": [
    "Есть в python две константы: True (правда) и False (ложь)"
   ]
  },
  {
   "cell_type": "markdown",
   "id": "462d0913",
   "metadata": {},
   "source": [
    "Они возникают очень например при сравнении:"
   ]
  },
  {
   "cell_type": "code",
   "execution_count": 75,
   "id": "df563535",
   "metadata": {},
   "outputs": [
    {
     "data": {
      "text/plain": [
       "True"
      ]
     },
     "execution_count": 75,
     "metadata": {},
     "output_type": "execute_result"
    }
   ],
   "source": [
    "5 > 3"
   ]
  },
  {
   "cell_type": "code",
   "execution_count": 76,
   "id": "da615677",
   "metadata": {},
   "outputs": [
    {
     "data": {
      "text/plain": [
       "False"
      ]
     },
     "execution_count": 76,
     "metadata": {},
     "output_type": "execute_result"
    }
   ],
   "source": [
    "2 < -2"
   ]
  },
  {
   "cell_type": "code",
   "execution_count": 77,
   "id": "07d29bd3",
   "metadata": {},
   "outputs": [
    {
     "data": {
      "text/plain": [
       "True"
      ]
     },
     "execution_count": 77,
     "metadata": {},
     "output_type": "execute_result"
    }
   ],
   "source": [
    "10 >= 4"
   ]
  },
  {
   "cell_type": "code",
   "execution_count": 78,
   "id": "527ddc74",
   "metadata": {},
   "outputs": [
    {
     "data": {
      "text/plain": [
       "True"
      ]
     },
     "execution_count": 78,
     "metadata": {},
     "output_type": "execute_result"
    }
   ],
   "source": [
    "-3.14 <= -3.14"
   ]
  },
  {
   "cell_type": "code",
   "execution_count": 79,
   "id": "aa87a6ee",
   "metadata": {},
   "outputs": [
    {
     "data": {
      "text/plain": [
       "False"
      ]
     },
     "execution_count": 79,
     "metadata": {},
     "output_type": "execute_result"
    }
   ],
   "source": [
    "2 == 5"
   ]
  },
  {
   "cell_type": "code",
   "execution_count": 80,
   "id": "67cf79eb",
   "metadata": {},
   "outputs": [
    {
     "data": {
      "text/plain": [
       "True"
      ]
     },
     "execution_count": 80,
     "metadata": {},
     "output_type": "execute_result"
    }
   ],
   "source": [
    "5.1 != -4"
   ]
  },
  {
   "cell_type": "markdown",
   "id": "7d065f16",
   "metadata": {},
   "source": [
    "Над булевыми значениями возможны операции - булевы"
   ]
  },
  {
   "cell_type": "markdown",
   "id": "11077216",
   "metadata": {},
   "source": [
    "`x and y` - результат `True`, только если и `x` и `y` - `True`, в остальных случаях - `False`\n",
    "\n",
    "`x or y` - результат `True`, если оба или хотя бы одно значение из `x` или `y` - `True`, если оба - `False`, то результат - `False`\n",
    "\n",
    "`not x` - меняет значение на обратное, был `x = True`, стал - `False`, был `x = False`, стал - `True`. "
   ]
  },
  {
   "cell_type": "markdown",
   "id": "35453a28",
   "metadata": {},
   "source": [
    "Проверим систолическое давление (верхнее), нормальное ли оно"
   ]
  },
  {
   "cell_type": "code",
   "execution_count": 82,
   "id": "d30f8413",
   "metadata": {},
   "outputs": [
    {
     "data": {
      "text/plain": [
       "False"
      ]
     },
     "execution_count": 82,
     "metadata": {},
     "output_type": "execute_result"
    }
   ],
   "source": [
    "systolic_blood_pressure = 123\n",
    "\n",
    "(systolic_blood_pressure >= 100) and (systolic_blood_pressure <= 120)"
   ]
  },
  {
   "cell_type": "code",
   "execution_count": 85,
   "id": "25903927",
   "metadata": {},
   "outputs": [
    {
     "data": {
      "text/plain": [
       "True"
      ]
     },
     "execution_count": 85,
     "metadata": {},
     "output_type": "execute_result"
    }
   ],
   "source": [
    "systolic_blood_pressure = 115\n",
    "\n",
    "(systolic_blood_pressure >= 100) and (systolic_blood_pressure <= 120)"
   ]
  },
  {
   "cell_type": "code",
   "execution_count": 86,
   "id": "dc212db8",
   "metadata": {},
   "outputs": [
    {
     "data": {
      "text/plain": [
       "True"
      ]
     },
     "execution_count": 86,
     "metadata": {},
     "output_type": "execute_result"
    }
   ],
   "source": [
    "100 <= systolic_blood_pressure <= 120"
   ]
  },
  {
   "cell_type": "markdown",
   "id": "ad201fab",
   "metadata": {},
   "source": [
    "### Множества (set)"
   ]
  },
  {
   "cell_type": "code",
   "execution_count": 87,
   "id": "8b032c17",
   "metadata": {},
   "outputs": [
    {
     "name": "stdout",
     "output_type": "stream",
     "text": [
      "{1, 101, 10, 400, 30}\n"
     ]
    }
   ],
   "source": [
    "my_first_set = set([101, 10, 1, 30, 400, 10])\n",
    "print(my_first_set)"
   ]
  },
  {
   "cell_type": "markdown",
   "id": "e0be66ee",
   "metadata": {},
   "source": [
    "Ничего себе, а куда пропал порядок и куда делась вторая 10?"
   ]
  },
  {
   "cell_type": "markdown",
   "id": "b06bc22b",
   "metadata": {},
   "source": [
    "Все дело в том, что это не список - это множество.\n",
    "\n",
    "    - В нем хранятся только уникальные значения.\n",
    "\n",
    "    - И элементы в множестве неупорядоченны (Не смейте так сказать на собеседовании, тут все сложнее, но пока я упрощаю)"
   ]
  },
  {
   "cell_type": "markdown",
   "id": "57e94d6a",
   "metadata": {},
   "source": [
    "Зачем тогда множества, когда есть список без такого издевательства?\n",
    "\n",
    "Бывает случаи, когда порядок и повторяющиеся значения не столь важны, а ряд операций в множестве будут быстрее"
   ]
  },
  {
   "cell_type": "code",
   "execution_count": 88,
   "id": "5ee2e535",
   "metadata": {},
   "outputs": [
    {
     "data": {
      "text/plain": [
       "True"
      ]
     },
     "execution_count": 88,
     "metadata": {},
     "output_type": "execute_result"
    }
   ],
   "source": [
    "101 in my_first_set"
   ]
  },
  {
   "cell_type": "code",
   "execution_count": 89,
   "id": "0d066b34",
   "metadata": {},
   "outputs": [
    {
     "data": {
      "text/plain": [
       "False"
      ]
     },
     "execution_count": 89,
     "metadata": {},
     "output_type": "execute_result"
    }
   ],
   "source": [
    "123 in my_first_set"
   ]
  },
  {
   "cell_type": "code",
   "execution_count": null,
   "id": "1d568073",
   "metadata": {},
   "outputs": [],
   "source": []
  },
  {
   "cell_type": "code",
   "execution_count": 83,
   "id": "5bd7412e",
   "metadata": {},
   "outputs": [],
   "source": [
    "# о, это же булевы значения"
   ]
  },
  {
   "cell_type": "code",
   "execution_count": 90,
   "id": "0a8da5f7",
   "metadata": {},
   "outputs": [
    {
     "data": {
      "text/plain": [
       "True"
      ]
     },
     "execution_count": 90,
     "metadata": {},
     "output_type": "execute_result"
    }
   ],
   "source": [
    "# работает и в списках, но медленнее\n",
    "# ощутимо при больших размерах или при частом повторении\n",
    "\n",
    "-45 in [15, 85, -45, 0]"
   ]
  },
  {
   "cell_type": "markdown",
   "id": "a7f1bf25",
   "metadata": {},
   "source": [
    "И задачка на закрепление материала:\n",
    "    \n",
    "    У вас есть список целых чисел, нужно узнать сколько в нем уникальных значений"
   ]
  },
  {
   "cell_type": "code",
   "execution_count": 91,
   "id": "fc4dd86b",
   "metadata": {},
   "outputs": [],
   "source": [
    "input_list = [1, 2, 7, 2, 5, -10, 5, 10, 2]"
   ]
  },
  {
   "cell_type": "code",
   "execution_count": 92,
   "id": "fde972ff",
   "metadata": {},
   "outputs": [
    {
     "data": {
      "text/plain": [
       "9"
      ]
     },
     "execution_count": 92,
     "metadata": {},
     "output_type": "execute_result"
    }
   ],
   "source": [
    "len(input_list)"
   ]
  },
  {
   "cell_type": "code",
   "execution_count": 93,
   "id": "3aaa9b15",
   "metadata": {},
   "outputs": [
    {
     "data": {
      "text/plain": [
       "6"
      ]
     },
     "execution_count": 93,
     "metadata": {},
     "output_type": "execute_result"
    }
   ],
   "source": [
    "len(set(input_list))"
   ]
  },
  {
   "cell_type": "code",
   "execution_count": 94,
   "id": "826df6a5",
   "metadata": {},
   "outputs": [
    {
     "data": {
      "text/plain": [
       "set"
      ]
     },
     "execution_count": 94,
     "metadata": {},
     "output_type": "execute_result"
    }
   ],
   "source": [
    "type({1, 2, 3})"
   ]
  },
  {
   "cell_type": "markdown",
   "id": "d8406701",
   "metadata": {},
   "source": [
    "### Словарь (dict)"
   ]
  },
  {
   "cell_type": "markdown",
   "id": "cc515a71",
   "metadata": {},
   "source": [
    "Набор пар ключ и значение, где значение можно взять по ключу"
   ]
  },
  {
   "cell_type": "code",
   "execution_count": 95,
   "id": "f5d24015",
   "metadata": {},
   "outputs": [],
   "source": [
    "phone_book = {\n",
    "    'аквариум': '2-12-85-06',\n",
    "    'экстренный': '02',\n",
    "    'apple us': '800–692–7753'\n",
    "}"
   ]
  },
  {
   "cell_type": "code",
   "execution_count": 96,
   "id": "78b03035",
   "metadata": {},
   "outputs": [
    {
     "data": {
      "text/plain": [
       "[['аквариум', '2-12-85-06'],\n",
       " ['экстренный', '02'],\n",
       " ['apple us', '800–692–7753']]"
      ]
     },
     "execution_count": 96,
     "metadata": {},
     "output_type": "execute_result"
    }
   ],
   "source": [
    "[\n",
    "    ['аквариум', '2-12-85-06'],\n",
    "    ['экстренный', '02'],\n",
    "    ['apple us', '800–692–7753']\n",
    "]"
   ]
  },
  {
   "cell_type": "code",
   "execution_count": 97,
   "id": "7beb8d99",
   "metadata": {},
   "outputs": [
    {
     "data": {
      "text/plain": [
       "'02'"
      ]
     },
     "execution_count": 97,
     "metadata": {},
     "output_type": "execute_result"
    }
   ],
   "source": [
    "phone_book['экстренный']"
   ]
  },
  {
   "cell_type": "code",
   "execution_count": 98,
   "id": "3500997e",
   "metadata": {},
   "outputs": [],
   "source": [
    "phone_book['экстренный'] = 112"
   ]
  },
  {
   "cell_type": "code",
   "execution_count": 99,
   "id": "f0bc7461",
   "metadata": {},
   "outputs": [
    {
     "data": {
      "text/plain": [
       "{'аквариум': '2-12-85-06', 'экстренный': 112, 'apple us': '800–692–7753'}"
      ]
     },
     "execution_count": 99,
     "metadata": {},
     "output_type": "execute_result"
    }
   ],
   "source": [
    "phone_book"
   ]
  },
  {
   "cell_type": "code",
   "execution_count": 100,
   "id": "207908c1",
   "metadata": {},
   "outputs": [
    {
     "data": {
      "text/plain": [
       "112"
      ]
     },
     "execution_count": 100,
     "metadata": {},
     "output_type": "execute_result"
    }
   ],
   "source": [
    "phone_book['экстренный']"
   ]
  },
  {
   "cell_type": "code",
   "execution_count": 101,
   "id": "d9dba0b7",
   "metadata": {},
   "outputs": [
    {
     "data": {
      "text/plain": [
       "112"
      ]
     },
     "execution_count": 101,
     "metadata": {},
     "output_type": "execute_result"
    }
   ],
   "source": [
    "phone_book.get('экстренный')"
   ]
  },
  {
   "cell_type": "code",
   "execution_count": 102,
   "id": "1ab3655b",
   "metadata": {},
   "outputs": [],
   "source": [
    "phone_book['мастер дент'] = '274-10-01'"
   ]
  },
  {
   "cell_type": "code",
   "execution_count": 103,
   "id": "942ac6ca",
   "metadata": {},
   "outputs": [
    {
     "data": {
      "text/plain": [
       "{'аквариум': '2-12-85-06',\n",
       " 'экстренный': 112,\n",
       " 'apple us': '800–692–7753',\n",
       " 'мастер дент': '274-10-01'}"
      ]
     },
     "execution_count": 103,
     "metadata": {},
     "output_type": "execute_result"
    }
   ],
   "source": [
    "phone_book"
   ]
  },
  {
   "cell_type": "code",
   "execution_count": 104,
   "id": "74c0daa4",
   "metadata": {},
   "outputs": [
    {
     "data": {
      "text/plain": [
       "'274-10-01'"
      ]
     },
     "execution_count": 104,
     "metadata": {},
     "output_type": "execute_result"
    }
   ],
   "source": [
    "phone_book['мастер дент']"
   ]
  },
  {
   "cell_type": "code",
   "execution_count": 105,
   "id": "a9584059",
   "metadata": {},
   "outputs": [],
   "source": [
    "phone_book['petr'] = 111"
   ]
  },
  {
   "cell_type": "code",
   "execution_count": 106,
   "id": "848fd7d2",
   "metadata": {},
   "outputs": [
    {
     "data": {
      "text/plain": [
       "{'аквариум': '2-12-85-06',\n",
       " 'экстренный': 112,\n",
       " 'apple us': '800–692–7753',\n",
       " 'мастер дент': '274-10-01',\n",
       " 'petr': 111}"
      ]
     },
     "execution_count": 106,
     "metadata": {},
     "output_type": "execute_result"
    }
   ],
   "source": [
    "phone_book"
   ]
  },
  {
   "cell_type": "markdown",
   "id": "4c3cf714",
   "metadata": {},
   "source": [
    "### Условный оператор (if)"
   ]
  },
  {
   "cell_type": "markdown",
   "id": "776ae051",
   "metadata": {},
   "source": [
    "Иногда хочется написать код, а в нем сделать проверку. И в зависимости от проверки хочется по разному себя вести"
   ]
  },
  {
   "cell_type": "code",
   "execution_count": 107,
   "id": "4aa9fb70",
   "metadata": {},
   "outputs": [
    {
     "name": "stdout",
     "output_type": "stream",
     "text": [
      "20\n"
     ]
    }
   ],
   "source": [
    "a = 10\n",
    "b = 20\n",
    "\n",
    "max_of_a_and_b = a\n",
    "\n",
    "if b > a:\n",
    "    max_of_a_and_b = b\n",
    "\n",
    "# обратите внимание на двоеточие и отступ\n",
    "\n",
    "print(max_of_a_and_b)"
   ]
  },
  {
   "cell_type": "code",
   "execution_count": 108,
   "id": "ea71242b",
   "metadata": {},
   "outputs": [
    {
     "data": {
      "text/plain": [
       "56"
      ]
     },
     "execution_count": 108,
     "metadata": {},
     "output_type": "execute_result"
    }
   ],
   "source": [
    "max(a, b, 34, 56)"
   ]
  },
  {
   "cell_type": "code",
   "execution_count": 109,
   "id": "847725c7",
   "metadata": {},
   "outputs": [
    {
     "name": "stdout",
     "output_type": "stream",
     "text": [
      "отрицательное\n"
     ]
    }
   ],
   "source": [
    "check_value = -42\n",
    "\n",
    "if check_value < 0:\n",
    "    print(\"отрицательное\")\n",
    "elif check_value == 0:\n",
    "    print(\"нулевое\")\n",
    "elif check_value > 0:\n",
    "    print(\"положительное\")"
   ]
  },
  {
   "cell_type": "code",
   "execution_count": 110,
   "id": "875cc179",
   "metadata": {},
   "outputs": [
    {
     "name": "stdout",
     "output_type": "stream",
     "text": [
      "положительное\n"
     ]
    }
   ],
   "source": [
    "check_value = 42\n",
    "\n",
    "if check_value < 0:\n",
    "    print(\"отрицательное\")\n",
    "elif check_value == 0:\n",
    "    print(\"нулевое\")\n",
    "else:\n",
    "    print(\"положительное\")"
   ]
  },
  {
   "cell_type": "markdown",
   "id": "b336bd99",
   "metadata": {},
   "source": [
    "### Цикл while"
   ]
  },
  {
   "cell_type": "code",
   "execution_count": 111,
   "id": "b5bf7972",
   "metadata": {},
   "outputs": [
    {
     "name": "stdout",
     "output_type": "stream",
     "text": [
      "1\n",
      "A\n",
      "2\n",
      "AA\n",
      "3\n",
      "AAA\n",
      "4\n",
      "AAAA\n",
      "5\n",
      "AAAAA\n",
      "6\n",
      "AAAAAA\n",
      "7\n",
      "AAAAAAA\n",
      "8\n",
      "AAAAAAAA\n",
      "9\n",
      "AAAAAAAAA\n",
      "10\n",
      "AAAAAAAAAA\n"
     ]
    }
   ],
   "source": [
    "step = 1\n",
    "while step <= 10:\n",
    "    print(step)\n",
    "    print('A' * step)\n",
    "    step += 1"
   ]
  },
  {
   "cell_type": "code",
   "execution_count": 106,
   "id": "f5248222",
   "metadata": {},
   "outputs": [
    {
     "ename": "NameError",
     "evalue": "name 'word' is not defined",
     "output_type": "error",
     "traceback": [
      "\u001b[0;31m---------------------------------------------------------------------------\u001b[0m",
      "\u001b[0;31mNameError\u001b[0m                                 Traceback (most recent call last)",
      "Input \u001b[0;32mIn [106]\u001b[0m, in \u001b[0;36m<module>\u001b[0;34m\u001b[0m\n\u001b[0;32m----> 1\u001b[0m \u001b[43mword\u001b[49m\n",
      "\u001b[0;31mNameError\u001b[0m: name 'word' is not defined"
     ]
    }
   ],
   "source": [
    "word"
   ]
  },
  {
   "cell_type": "markdown",
   "id": "9ee561bb",
   "metadata": {},
   "source": [
    "### Цикл for"
   ]
  },
  {
   "cell_type": "code",
   "execution_count": 112,
   "id": "a0f2a302",
   "metadata": {},
   "outputs": [
    {
     "name": "stdout",
     "output_type": "stream",
     "text": [
      "['да', 'пребудет', 'с тобой', 'сила']\n"
     ]
    }
   ],
   "source": [
    "print(joda_words)"
   ]
  },
  {
   "cell_type": "code",
   "execution_count": 113,
   "id": "6614f9a8",
   "metadata": {},
   "outputs": [
    {
     "name": "stdout",
     "output_type": "stream",
     "text": [
      "да\n",
      "пребудет\n",
      "с тобой\n",
      "сила\n"
     ]
    }
   ],
   "source": [
    "for word in joda_words:\n",
    "    print(word)"
   ]
  },
  {
   "cell_type": "code",
   "execution_count": 114,
   "id": "28ee89f6",
   "metadata": {},
   "outputs": [
    {
     "name": "stdout",
     "output_type": "stream",
     "text": [
      "ад\n",
      "тедуберп\n",
      "йобот с\n",
      "алис\n"
     ]
    }
   ],
   "source": [
    "for word in joda_words:\n",
    "    print(word[::-1])"
   ]
  },
  {
   "cell_type": "code",
   "execution_count": 115,
   "id": "daf9a440",
   "metadata": {},
   "outputs": [
    {
     "name": "stdout",
     "output_type": "stream",
     "text": [
      "0\n",
      "1\n",
      "2\n",
      "3\n",
      "4\n",
      "5\n",
      "6\n",
      "7\n",
      "8\n",
      "9\n"
     ]
    }
   ],
   "source": [
    "for i in [0,1,2,3,4,5,6,7,8,9]:\n",
    "    print(i)"
   ]
  },
  {
   "cell_type": "code",
   "execution_count": 116,
   "id": "ee5aedb6",
   "metadata": {},
   "outputs": [
    {
     "name": "stdout",
     "output_type": "stream",
     "text": [
      "это будет выведено 10 раз. раз: 1\n",
      "это будет выведено 10 раз. раз: 2\n",
      "это будет выведено 10 раз. раз: 3\n",
      "это будет выведено 10 раз. раз: 4\n",
      "это будет выведено 10 раз. раз: 5\n",
      "это будет выведено 10 раз. раз: 6\n",
      "это будет выведено 10 раз. раз: 7\n",
      "это будет выведено 10 раз. раз: 8\n",
      "это будет выведено 10 раз. раз: 9\n",
      "это будет выведено 10 раз. раз: 10\n"
     ]
    }
   ],
   "source": [
    "for i in [0,1,2,3,4,5,6,7,8,9]:\n",
    "    print('это будет выведено 10 раз.', 'раз:', i+1)"
   ]
  },
  {
   "cell_type": "code",
   "execution_count": 117,
   "id": "4dd941d0",
   "metadata": {},
   "outputs": [
    {
     "data": {
      "text/plain": [
       "range(0, 10)"
      ]
     },
     "execution_count": 117,
     "metadata": {},
     "output_type": "execute_result"
    }
   ],
   "source": [
    "range(0, 10)"
   ]
  },
  {
   "cell_type": "code",
   "execution_count": 118,
   "id": "8c0c7e55",
   "metadata": {},
   "outputs": [
    {
     "data": {
      "text/plain": [
       "[0, 1, 2, 3, 4, 5, 6, 7, 8, 9]"
      ]
     },
     "execution_count": 118,
     "metadata": {},
     "output_type": "execute_result"
    }
   ],
   "source": [
    "list(range(0, 10))"
   ]
  },
  {
   "cell_type": "code",
   "execution_count": 119,
   "id": "4982f05b",
   "metadata": {},
   "outputs": [
    {
     "name": "stdout",
     "output_type": "stream",
     "text": [
      "это будет выведено 10 раз. раз: 1\n",
      "это будет выведено 10 раз. раз: 2\n",
      "это будет выведено 10 раз. раз: 3\n",
      "это будет выведено 10 раз. раз: 4\n",
      "это будет выведено 10 раз. раз: 5\n",
      "это будет выведено 10 раз. раз: 6\n",
      "это будет выведено 10 раз. раз: 7\n",
      "это будет выведено 10 раз. раз: 8\n",
      "это будет выведено 10 раз. раз: 9\n",
      "это будет выведено 10 раз. раз: 10\n",
      "это будет выведено 10 раз. раз: 11\n",
      "это будет выведено 10 раз. раз: 12\n",
      "это будет выведено 10 раз. раз: 13\n",
      "это будет выведено 10 раз. раз: 14\n",
      "это будет выведено 10 раз. раз: 15\n",
      "это будет выведено 10 раз. раз: 16\n",
      "это будет выведено 10 раз. раз: 17\n",
      "это будет выведено 10 раз. раз: 18\n",
      "это будет выведено 10 раз. раз: 19\n",
      "это будет выведено 10 раз. раз: 20\n",
      "это будет выведено 10 раз. раз: 21\n",
      "это будет выведено 10 раз. раз: 22\n",
      "это будет выведено 10 раз. раз: 23\n",
      "это будет выведено 10 раз. раз: 24\n",
      "это будет выведено 10 раз. раз: 25\n",
      "это будет выведено 10 раз. раз: 26\n",
      "это будет выведено 10 раз. раз: 27\n",
      "это будет выведено 10 раз. раз: 28\n",
      "это будет выведено 10 раз. раз: 29\n",
      "это будет выведено 10 раз. раз: 30\n",
      "это будет выведено 10 раз. раз: 31\n",
      "это будет выведено 10 раз. раз: 32\n",
      "это будет выведено 10 раз. раз: 33\n",
      "это будет выведено 10 раз. раз: 34\n",
      "это будет выведено 10 раз. раз: 35\n",
      "это будет выведено 10 раз. раз: 36\n",
      "это будет выведено 10 раз. раз: 37\n",
      "это будет выведено 10 раз. раз: 38\n",
      "это будет выведено 10 раз. раз: 39\n",
      "это будет выведено 10 раз. раз: 40\n",
      "это будет выведено 10 раз. раз: 41\n",
      "это будет выведено 10 раз. раз: 42\n",
      "это будет выведено 10 раз. раз: 43\n",
      "это будет выведено 10 раз. раз: 44\n",
      "это будет выведено 10 раз. раз: 45\n",
      "это будет выведено 10 раз. раз: 46\n",
      "это будет выведено 10 раз. раз: 47\n",
      "это будет выведено 10 раз. раз: 48\n",
      "это будет выведено 10 раз. раз: 49\n",
      "это будет выведено 10 раз. раз: 50\n",
      "это будет выведено 10 раз. раз: 51\n",
      "это будет выведено 10 раз. раз: 52\n",
      "это будет выведено 10 раз. раз: 53\n",
      "это будет выведено 10 раз. раз: 54\n",
      "это будет выведено 10 раз. раз: 55\n",
      "это будет выведено 10 раз. раз: 56\n",
      "это будет выведено 10 раз. раз: 57\n",
      "это будет выведено 10 раз. раз: 58\n",
      "это будет выведено 10 раз. раз: 59\n",
      "это будет выведено 10 раз. раз: 60\n",
      "это будет выведено 10 раз. раз: 61\n",
      "это будет выведено 10 раз. раз: 62\n",
      "это будет выведено 10 раз. раз: 63\n",
      "это будет выведено 10 раз. раз: 64\n",
      "это будет выведено 10 раз. раз: 65\n",
      "это будет выведено 10 раз. раз: 66\n",
      "это будет выведено 10 раз. раз: 67\n",
      "это будет выведено 10 раз. раз: 68\n",
      "это будет выведено 10 раз. раз: 69\n",
      "это будет выведено 10 раз. раз: 70\n",
      "это будет выведено 10 раз. раз: 71\n",
      "это будет выведено 10 раз. раз: 72\n",
      "это будет выведено 10 раз. раз: 73\n",
      "это будет выведено 10 раз. раз: 74\n",
      "это будет выведено 10 раз. раз: 75\n",
      "это будет выведено 10 раз. раз: 76\n",
      "это будет выведено 10 раз. раз: 77\n",
      "это будет выведено 10 раз. раз: 78\n",
      "это будет выведено 10 раз. раз: 79\n",
      "это будет выведено 10 раз. раз: 80\n",
      "это будет выведено 10 раз. раз: 81\n",
      "это будет выведено 10 раз. раз: 82\n",
      "это будет выведено 10 раз. раз: 83\n",
      "это будет выведено 10 раз. раз: 84\n",
      "это будет выведено 10 раз. раз: 85\n",
      "это будет выведено 10 раз. раз: 86\n",
      "это будет выведено 10 раз. раз: 87\n",
      "это будет выведено 10 раз. раз: 88\n",
      "это будет выведено 10 раз. раз: 89\n",
      "это будет выведено 10 раз. раз: 90\n",
      "это будет выведено 10 раз. раз: 91\n",
      "это будет выведено 10 раз. раз: 92\n",
      "это будет выведено 10 раз. раз: 93\n",
      "это будет выведено 10 раз. раз: 94\n",
      "это будет выведено 10 раз. раз: 95\n",
      "это будет выведено 10 раз. раз: 96\n",
      "это будет выведено 10 раз. раз: 97\n",
      "это будет выведено 10 раз. раз: 98\n",
      "это будет выведено 10 раз. раз: 99\n",
      "это будет выведено 10 раз. раз: 100\n"
     ]
    }
   ],
   "source": [
    "for i in range(0, 100):\n",
    "    print('это будет выведено 10 раз.', 'раз:', i+1)"
   ]
  },
  {
   "cell_type": "code",
   "execution_count": 120,
   "id": "e542d3c9",
   "metadata": {},
   "outputs": [
    {
     "data": {
      "text/plain": [
       "[90, 80, 70, 60, 50, 40, 30, 20, 10]"
      ]
     },
     "execution_count": 120,
     "metadata": {},
     "output_type": "execute_result"
    }
   ],
   "source": [
    "list(range(90, 9, -10))"
   ]
  },
  {
   "cell_type": "markdown",
   "id": "890de4d5",
   "metadata": {},
   "source": [
    "### Функции"
   ]
  },
  {
   "cell_type": "code",
   "execution_count": 121,
   "id": "31736570",
   "metadata": {},
   "outputs": [],
   "source": [
    "def sum_a_b(a, b):\n",
    "    result = a + b\n",
    "    return result"
   ]
  },
  {
   "cell_type": "code",
   "execution_count": 122,
   "id": "632e2602",
   "metadata": {},
   "outputs": [
    {
     "data": {
      "text/plain": [
       "14"
      ]
     },
     "execution_count": 122,
     "metadata": {},
     "output_type": "execute_result"
    }
   ],
   "source": [
    "sum_a_b(10, 4)"
   ]
  },
  {
   "cell_type": "code",
   "execution_count": 123,
   "id": "61bfefde",
   "metadata": {},
   "outputs": [],
   "source": [
    "# a*x**2+b*x+c = 0\n",
    "def f(a, b, c):\n",
    "    d = b**2 -4*a*c\n",
    "    if d > 0:\n",
    "        print('два разных корня')\n",
    "        x1 = (-b + d**.5) / (2*a)\n",
    "        x2 = (-b - d**.5) / (2*a)\n",
    "        print('x1 =', x1)\n",
    "        print('x2 =', x2)\n",
    "    elif d == 0:\n",
    "        print('два равных корня')\n",
    "        x = (-b) / (2*a)\n",
    "        print('x1 = x2 =', x)\n",
    "    else:\n",
    "        print('вещественных корней нет')"
   ]
  },
  {
   "cell_type": "code",
   "execution_count": 124,
   "id": "c42593c1",
   "metadata": {},
   "outputs": [
    {
     "name": "stdout",
     "output_type": "stream",
     "text": [
      "два равных корня\n",
      "x1 = x2 = -1.0\n"
     ]
    }
   ],
   "source": [
    "f(2, 4, 2)"
   ]
  },
  {
   "cell_type": "code",
   "execution_count": 129,
   "id": "0bfaf722",
   "metadata": {},
   "outputs": [
    {
     "name": "stdout",
     "output_type": "stream",
     "text": [
      "два равных корня\n"
     ]
    },
    {
     "ename": "ZeroDivisionError",
     "evalue": "division by zero",
     "output_type": "error",
     "traceback": [
      "\u001b[0;31m---------------------------------------------------------------------------\u001b[0m",
      "\u001b[0;31mZeroDivisionError\u001b[0m                         Traceback (most recent call last)",
      "\u001b[1;32m/Users/yanalysova/Documents/open-ml-course/003 Введение в python/python base.ipynb Cell 169'\u001b[0m in \u001b[0;36m<module>\u001b[0;34m\u001b[0m\n\u001b[0;32m----> <a href='vscode-notebook-cell:/Users/yanalysova/Documents/open-ml-course/003%20%D0%92%D0%B2%D0%B5%D0%B4%D0%B5%D0%BD%D0%B8%D0%B5%20%D0%B2%20python/python%20base.ipynb#ch0000169?line=0'>1</a>\u001b[0m f(\u001b[39m0\u001b[39;49m, \u001b[39m0\u001b[39;49m, \u001b[39m0\u001b[39;49m)\n",
      "\u001b[1;32m/Users/yanalysova/Documents/open-ml-course/003 Введение в python/python base.ipynb Cell 167'\u001b[0m in \u001b[0;36mf\u001b[0;34m(a, b, c)\u001b[0m\n\u001b[1;32m     <a href='vscode-notebook-cell:/Users/yanalysova/Documents/open-ml-course/003%20%D0%92%D0%B2%D0%B5%D0%B4%D0%B5%D0%BD%D0%B8%D0%B5%20%D0%B2%20python/python%20base.ipynb#ch0000167?line=9'>10</a>\u001b[0m \u001b[39melif\u001b[39;00m d \u001b[39m==\u001b[39m \u001b[39m0\u001b[39m:\n\u001b[1;32m     <a href='vscode-notebook-cell:/Users/yanalysova/Documents/open-ml-course/003%20%D0%92%D0%B2%D0%B5%D0%B4%D0%B5%D0%BD%D0%B8%D0%B5%20%D0%B2%20python/python%20base.ipynb#ch0000167?line=10'>11</a>\u001b[0m     \u001b[39mprint\u001b[39m(\u001b[39m'\u001b[39m\u001b[39mдва равных корня\u001b[39m\u001b[39m'\u001b[39m)\n\u001b[0;32m---> <a href='vscode-notebook-cell:/Users/yanalysova/Documents/open-ml-course/003%20%D0%92%D0%B2%D0%B5%D0%B4%D0%B5%D0%BD%D0%B8%D0%B5%20%D0%B2%20python/python%20base.ipynb#ch0000167?line=11'>12</a>\u001b[0m     x \u001b[39m=\u001b[39m (\u001b[39m-\u001b[39;49mb) \u001b[39m/\u001b[39;49m (\u001b[39m2\u001b[39;49m\u001b[39m*\u001b[39;49ma)\n\u001b[1;32m     <a href='vscode-notebook-cell:/Users/yanalysova/Documents/open-ml-course/003%20%D0%92%D0%B2%D0%B5%D0%B4%D0%B5%D0%BD%D0%B8%D0%B5%20%D0%B2%20python/python%20base.ipynb#ch0000167?line=12'>13</a>\u001b[0m     \u001b[39mprint\u001b[39m(\u001b[39m'\u001b[39m\u001b[39mx1 = x2 =\u001b[39m\u001b[39m'\u001b[39m, x)\n\u001b[1;32m     <a href='vscode-notebook-cell:/Users/yanalysova/Documents/open-ml-course/003%20%D0%92%D0%B2%D0%B5%D0%B4%D0%B5%D0%BD%D0%B8%D0%B5%20%D0%B2%20python/python%20base.ipynb#ch0000167?line=13'>14</a>\u001b[0m \u001b[39melse\u001b[39;00m:\n",
      "\u001b[0;31mZeroDivisionError\u001b[0m: division by zero"
     ]
    }
   ],
   "source": [
    "f(0, 0, 0)"
   ]
  },
  {
   "cell_type": "markdown",
   "id": "cc5ed7cb",
   "metadata": {},
   "source": [
    "### Дополнительные библиотеки"
   ]
  },
  {
   "cell_type": "code",
   "execution_count": 130,
   "id": "97c2970a",
   "metadata": {},
   "outputs": [],
   "source": [
    "import math"
   ]
  },
  {
   "cell_type": "code",
   "execution_count": 131,
   "id": "b8d83532",
   "metadata": {},
   "outputs": [
    {
     "data": {
      "text/plain": [
       "2.718281828459045"
      ]
     },
     "execution_count": 131,
     "metadata": {},
     "output_type": "execute_result"
    }
   ],
   "source": [
    "math.e"
   ]
  },
  {
   "cell_type": "code",
   "execution_count": 134,
   "id": "7eb70b45",
   "metadata": {},
   "outputs": [
    {
     "data": {
      "text/plain": [
       "3.141592653589793"
      ]
     },
     "execution_count": 134,
     "metadata": {},
     "output_type": "execute_result"
    }
   ],
   "source": [
    "math.pi"
   ]
  },
  {
   "cell_type": "code",
   "execution_count": 133,
   "id": "42659fc6",
   "metadata": {},
   "outputs": [
    {
     "data": {
      "text/plain": [
       "10.0"
      ]
     },
     "execution_count": 133,
     "metadata": {},
     "output_type": "execute_result"
    }
   ],
   "source": [
    "math.sqrt(100)"
   ]
  },
  {
   "cell_type": "code",
   "execution_count": 135,
   "id": "e25016c8",
   "metadata": {},
   "outputs": [],
   "source": [
    "from collections import Counter\n",
    "#from collections"
   ]
  },
  {
   "cell_type": "code",
   "execution_count": 136,
   "id": "b68dd60e",
   "metadata": {},
   "outputs": [
    {
     "data": {
      "text/plain": [
       "Counter({1: 1, 2: 1, 3: 1, 4: 4, 5: 1, 6: 1, 7: 1, 13: 1, 54: 1})"
      ]
     },
     "execution_count": 136,
     "metadata": {},
     "output_type": "execute_result"
    }
   ],
   "source": [
    "Counter([1,2,3,4,5,6,7,13,54,4,4,4]) # посчитать уникальные элементы в нашем списке"
   ]
  },
  {
   "cell_type": "code",
   "execution_count": 137,
   "id": "f962de89",
   "metadata": {},
   "outputs": [],
   "source": [
    "from time import sleep as zhdun"
   ]
  },
  {
   "cell_type": "code",
   "execution_count": 138,
   "id": "ca21c398",
   "metadata": {},
   "outputs": [
    {
     "name": "stdout",
     "output_type": "stream",
     "text": [
      "start\n",
      "end\n"
     ]
    }
   ],
   "source": [
    "print('start')\n",
    "zhdun(10)\n",
    "print('end')"
   ]
  },
  {
   "cell_type": "markdown",
   "id": "34ee5d40",
   "metadata": {},
   "source": [
    "### Файлы: чтение и запись"
   ]
  },
  {
   "cell_type": "code",
   "execution_count": 142,
   "id": "366b8fa3",
   "metadata": {},
   "outputs": [],
   "source": [
    "file = open(\"text.txt\", \"r\")\n",
    "# r - чтение\n",
    "# w - запись\n",
    "# a - дописать\n",
    "# x - запись, но если файл есть - упасть"
   ]
  },
  {
   "cell_type": "code",
   "execution_count": 143,
   "id": "a965367c",
   "metadata": {},
   "outputs": [
    {
     "data": {
      "text/plain": [
       "<_io.TextIOWrapper name='text.txt' mode='r' encoding='UTF-8'>"
      ]
     },
     "execution_count": 143,
     "metadata": {},
     "output_type": "execute_result"
    }
   ],
   "source": [
    "file"
   ]
  },
  {
   "cell_type": "code",
   "execution_count": 144,
   "id": "d5213bf6",
   "metadata": {},
   "outputs": [
    {
     "name": "stdout",
     "output_type": "stream",
     "text": [
      "hello Yana\n",
      "\n"
     ]
    }
   ],
   "source": [
    "all_data = file.read() # осторожно! файл может быть большим\n",
    "print(all_data)"
   ]
  },
  {
   "cell_type": "code",
   "execution_count": 145,
   "id": "c3841a7b",
   "metadata": {},
   "outputs": [],
   "source": [
    "file.close() # лучше всегда закрывать файл"
   ]
  },
  {
   "cell_type": "code",
   "execution_count": 151,
   "id": "d6ddc578",
   "metadata": {},
   "outputs": [
    {
     "name": "stdout",
     "output_type": "stream",
     "text": [
      "['Мы за академическую честность и этическое поведение.\\n', '\\n', 'Мы против любого рода мошенничества и воровства, нечестного и неконкурентного прохождения курса.\\n', 'Мы за знания, хотим чтобы все проходили курс самостоятельно.\\n', 'Вам это поможет узнать ваши пробелы и наверстать их, а нам - узнать пробелы в материалах и помочь их восполнить.\\n', 'Продолжая проходить этот тест вы гарантируете, что\\n', 'не будете распространять решения и ответы\\n', 'не будете искать решения и ответы\\n']\n"
     ]
    }
   ],
   "source": [
    "file = open(\"text.txt\")\n",
    "all_data = file.readlines()\n",
    "print(all_data)\n",
    "file.close()"
   ]
  },
  {
   "cell_type": "code",
   "execution_count": 154,
   "id": "8259c94b",
   "metadata": {},
   "outputs": [
    {
     "ename": "UnsupportedOperation",
     "evalue": "not readable",
     "output_type": "error",
     "traceback": [
      "\u001b[0;31m---------------------------------------------------------------------------\u001b[0m",
      "\u001b[0;31mUnsupportedOperation\u001b[0m                      Traceback (most recent call last)",
      "\u001b[1;32m/Users/yanalysova/Documents/open-ml-course/003 Введение в python/python base.ipynb Cell 185'\u001b[0m in \u001b[0;36m<module>\u001b[0;34m\u001b[0m\n\u001b[1;32m      <a href='vscode-notebook-cell:/Users/yanalysova/Documents/open-ml-course/003%20%D0%92%D0%B2%D0%B5%D0%B4%D0%B5%D0%BD%D0%B8%D0%B5%20%D0%B2%20python/python%20base.ipynb#ch0000183?line=0'>1</a>\u001b[0m file \u001b[39m=\u001b[39m \u001b[39mopen\u001b[39m(\u001b[39m\"\u001b[39m\u001b[39mtext2.txt\u001b[39m\u001b[39m\"\u001b[39m, \u001b[39m'\u001b[39m\u001b[39mx\u001b[39m\u001b[39m'\u001b[39m)\n\u001b[0;32m----> <a href='vscode-notebook-cell:/Users/yanalysova/Documents/open-ml-course/003%20%D0%92%D0%B2%D0%B5%D0%B4%D0%B5%D0%BD%D0%B8%D0%B5%20%D0%B2%20python/python%20base.ipynb#ch0000183?line=1'>2</a>\u001b[0m all_data \u001b[39m=\u001b[39m file\u001b[39m.\u001b[39;49mreadlines()\n\u001b[1;32m      <a href='vscode-notebook-cell:/Users/yanalysova/Documents/open-ml-course/003%20%D0%92%D0%B2%D0%B5%D0%B4%D0%B5%D0%BD%D0%B8%D0%B5%20%D0%B2%20python/python%20base.ipynb#ch0000183?line=2'>3</a>\u001b[0m \u001b[39mprint\u001b[39m(all_data)\n\u001b[1;32m      <a href='vscode-notebook-cell:/Users/yanalysova/Documents/open-ml-course/003%20%D0%92%D0%B2%D0%B5%D0%B4%D0%B5%D0%BD%D0%B8%D0%B5%20%D0%B2%20python/python%20base.ipynb#ch0000183?line=3'>4</a>\u001b[0m file\u001b[39m.\u001b[39mclose()\n",
      "\u001b[0;31mUnsupportedOperation\u001b[0m: not readable"
     ]
    }
   ],
   "source": [
    "file = open(\"text2.txt\", 'x')\n",
    "all_data = file.readlines()\n",
    "print(all_data)\n",
    "file.close()"
   ]
  },
  {
   "cell_type": "code",
   "execution_count": 155,
   "id": "eafe9083",
   "metadata": {},
   "outputs": [],
   "source": [
    "new_file = open(\"new_file.txt\", \"w\")"
   ]
  },
  {
   "cell_type": "code",
   "execution_count": 156,
   "id": "61f4dbff",
   "metadata": {},
   "outputs": [
    {
     "data": {
      "text/plain": [
       "37"
      ]
     },
     "execution_count": 156,
     "metadata": {},
     "output_type": "execute_result"
    }
   ],
   "source": [
    "new_file.write('Это большой текст\\nИз нескольких строк')"
   ]
  },
  {
   "cell_type": "code",
   "execution_count": 157,
   "id": "a2a8783c",
   "metadata": {},
   "outputs": [],
   "source": [
    "new_file.close()"
   ]
  },
  {
   "cell_type": "code",
   "execution_count": 158,
   "id": "3de71ef8",
   "metadata": {},
   "outputs": [
    {
     "name": "stdout",
     "output_type": "stream",
     "text": [
      "Это большой текст\n",
      "Из нескольких строк"
     ]
    }
   ],
   "source": [
    "!cat new_file.txt # в windows аналог cat - команда type\n",
    "#!type new_file.txt"
   ]
  },
  {
   "cell_type": "code",
   "execution_count": 159,
   "id": "d8605198",
   "metadata": {},
   "outputs": [],
   "source": [
    "text = [\n",
    "    'Первая строка\\n',\n",
    "    'Вторая строка\\n',\n",
    "    'Ну и третья\\n'\n",
    "]"
   ]
  },
  {
   "cell_type": "code",
   "execution_count": 160,
   "id": "2ec31dab",
   "metadata": {},
   "outputs": [],
   "source": [
    "new_file = open(\"new_file2.txt\", \"a\")\n",
    "new_file.writelines(text)\n",
    "new_file.close()"
   ]
  },
  {
   "cell_type": "code",
   "execution_count": 161,
   "id": "517ae874",
   "metadata": {},
   "outputs": [
    {
     "name": "stdout",
     "output_type": "stream",
     "text": [
      "Первая строка\n",
      "Вторая строка\n",
      "Ну и третья\n"
     ]
    }
   ],
   "source": [
    "!cat new_file2.txt"
   ]
  },
  {
   "cell_type": "markdown",
   "id": "d7d79937",
   "metadata": {},
   "source": [
    "Не забывайте закрывать файлы. И когда файл открываете на запись с \"w\", то осторожно, если такой файл существует, то флаг \"w\" все в нем очистит и будет готов на запись!"
   ]
  },
  {
   "cell_type": "markdown",
   "id": "d9eb31ab",
   "metadata": {},
   "source": [
    "### Задание\n",
    "\n",
    "Написать код, который вычисляет сумму всех чисел, удовлетворяющих следующие условия:\n",
    "\n",
    "положительные целые числа от 1 до 1_000_000_002 (один миллиард два) включительно\n",
    "которые нацело (без остатка) делятся на 3 (пример: 3, 6, 9, ...)\n",
    "и которые не заканчиваются на 4 и 7 (пример заканчивающихся на 4 и 7: 24, 27, 54, 57 ...)\n",
    "Результат суммы ввести в поле ниже.\n",
    "В поле нужно ввести только число, являющееся ответом, без пробелов и других символов."
   ]
  },
  {
   "cell_type": "code",
   "execution_count": 19,
   "id": "13b5bd2e",
   "metadata": {},
   "outputs": [
    {
     "name": "stdout",
     "output_type": "stream",
     "text": [
      "133333334466666672\n"
     ]
    }
   ],
   "source": [
    "result = 0\n",
    "for i in range(1, 1_000_000_003):\n",
    "\tif (i % 3 == 0) and (i % 10 != 4) and (i % 10 != 7):\n",
    "\t\tresult += i\n",
    "print(result)"
   ]
  },
  {
   "cell_type": "markdown",
   "id": "9f54f32e",
   "metadata": {},
   "source": [
    "Нужно подготовить текстовый файл из 1 строки.\n",
    "Строка содержит набор из 3-х тысяч чисел, разделенных запятой. \n",
    "После последнего числа запятая не ставится.\n",
    "каждое число - результат операции: \n",
    "    \"результирующее целое число\" = \"целое число #1\" применить \"арифметическая операция\" \"целое число #2\""
   ]
  },
  {
   "cell_type": "code",
   "execution_count": 56,
   "id": "b975961f",
   "metadata": {},
   "outputs": [],
   "source": [
    "test_input_file_1 = open('test_input_file_1.txt')\n",
    "test_data = test_input_file_1.readlines()\n",
    "test_input_file_1.close()\n",
    "for i in test_data:\n",
    "\tres = i.split()\n",
    "\tone = int(res[1].replace('',''))\n",
    "\ttwo = int(res[2].replace('',''))\n",
    "\tif res[0] == '+':\n",
    "\t\tresult = one + two\n",
    "\telif res[0] == '-':\n",
    "\t\tresult = one - two\n",
    "\telif res[0] == '*':\n",
    "\t\tresult = one * two\n",
    "\telif res[0] == '/':\n",
    "\t\tresult = one / two\n",
    "\telif res[0] == '//':\n",
    "\t\tresult = one // two\n",
    "\telif res[0] == '**':\n",
    "\t\tresult = one ** two\n",
    "\telif res[0] == '%':\n",
    "\t\tresult = one % two\n",
    "\tnew_file = open(\"test_output_file_1.txt\", \"a\")\n",
    "\tnew_file.write(str(result))\n",
    "\tif (i != test_data[-1]):\n",
    "\t\tnew_file.write(',')\n",
    "new_file.close()"
   ]
  },
  {
   "cell_type": "code",
   "execution_count": 57,
   "id": "c057e5dd",
   "metadata": {},
   "outputs": [],
   "source": [
    "input_file = open('input_file.txt')\n",
    "data = input_file.readlines()\n",
    "input_file.close()\n",
    "for i in data:\n",
    "\tres = i.split()\n",
    "\tone = int(res[1].replace('',''))\n",
    "\ttwo = int(res[2].replace('',''))\n",
    "\tif res[0] == '+':\n",
    "\t\tresult = one + two\n",
    "\telif res[0] == '-':\n",
    "\t\tresult = one - two\n",
    "\telif res[0] == '*':\n",
    "\t\tresult = one * two\n",
    "\telif res[0] == '/':\n",
    "\t\tresult = one / two\n",
    "\telif res[0] == '//':\n",
    "\t\tresult = one // two\n",
    "\telif res[0] == '**':\n",
    "\t\tresult = one ** two\n",
    "\telif res[0] == '%':\n",
    "\t\tresult = one % two\n",
    "\toutput_file = open(\"output_file.txt\", \"a\")\n",
    "\toutput_file.write(str(result))\n",
    "\tif (i != data[-1]):\n",
    "\t\toutput_file.write(',')\n",
    "output_file.close()"
   ]
  },
  {
   "cell_type": "markdown",
   "id": "201dcee0",
   "metadata": {},
   "source": [
    "На вход поступает два текстовый файл из 3-х тысяч строк каждый.\n",
    "\n",
    "Первый файл содержит строки текста.   \n",
    " \n",
    "Второй файл содержит строки из двух целых неотрицательных чисел.\n",
    "Первое число в строке всегда меньше или равно второму.\n",
    "Числа всегда меньше длины соответствующей строки первого файла.\n",
    "Соответствующей - это значит 1-ая строка из 1-го файла соответствует 1-ой строке из 2-го файла, а 123-я строка из 1-го файла соответствует 123-ей строке из 2-го файла.\n",
    " \n",
    "Подготовить выходной файл, который состоит из подстрок 1-го входного файла.\n",
    "Подстроки разделены пробелами.\n",
    "Какие брать подстроки - написано во втором файле.\n",
    "В конце файла пробела нет.\n",
    "Например:\n",
    "\n",
    "    120 строка в 1-ом файле: JBOljrfkrfjgikenfjerkrkvkfKUGlknc\n",
    "    120 строка во 2-ом файле: 13 27\n",
    "Это значит 120 подстрока в результирующем файле это символы с 13 по 27, включая 13-ый и 27-ой символы.\n",
    "Не забывайте, что нумерация символов в строке с 0.\n",
    "Пример требуемой подстроки: kenfjerkrkvkfKU\n",
    "\n",
    "Пример 1-го входного файла:\n",
    "QxBpXEeyDWHiuTttWjhFMGTlrCMqpSvrNOQoxUbyiZombbLaYqBHvydPJlvdspwwpgeLNlHMVYrZvPsQkcQgPpierYSahialdXlde\n",
    "rNsZEKdYYlKKRrYGNWEXTYXOpQqrdGANRfoyeVvRwLVhZDfzKhFQkuSYODIXFLYafnXbxuwqZKQKjSiFZAtSponvmulcjicIDhNaQ\n",
    "TttSFLqbNkHvOeHSKTTGEEGxwtXImLeCmcKjvsIkIIvvlsUSazNuEsdDYlOljweSubVJxHbSJkBpByFiUCFctgrLKhlYgEWWuDYqx\n",
    "\n",
    "Пример 2-го входного файла:\n",
    "30 84\n",
    "5 79\n",
    "70 70\n",
    "\n",
    "Пример выходного файла:\n",
    "vrNOQoxUbyiZombbLaYqBHvydPJlvdspwwpgeLNlHMVYrZvPsQkcQgP KdYYlKKRrYGNWEXTYXOpQqrdGANRfoyeVvRwLVhZDfzKhFQkuSYODIXFLYafnXbxuwqZKQKjSiF b"
   ]
  },
  {
   "cell_type": "code",
   "execution_count": 74,
   "id": "dc7477d5",
   "metadata": {},
   "outputs": [],
   "source": [
    "test_import_file_2_1 = open('test_import_file_2_1.txt')\n",
    "test_import_data_2_1 = test_import_file_2_1.readlines()\n",
    "test_import_file_2_1.close()\n",
    "test_import_file_2_2 = open('test_import_file_2_2.txt')\n",
    "test_import_data_2_2 = test_import_file_2_2.readlines()\n",
    "test_import_file_2_2.close()\n",
    "\n",
    "for i, str in zip(test_import_data_2_2, test_import_data_2_1):\n",
    "\trange_arr = i.split()\n",
    "\tone = int(range_arr[0].replace('',''))\n",
    "\ttwo = int(range_arr[1].replace('',''))\n",
    "\tresult = str[one: two+1]\n",
    "\toutput_file = open(\"test_output_file_2.txt\", \"a\")\n",
    "\toutput_file.write(result)\n",
    "\tif (str != test_import_data_2_1[-1]):\n",
    "\t\toutput_file.write(' ')\n",
    "output_file.close()"
   ]
  },
  {
   "cell_type": "code",
   "execution_count": 75,
   "id": "719246ec",
   "metadata": {},
   "outputs": [],
   "source": [
    "# решение\n",
    "\n",
    "import_file_2_1 = open('import_file_2_1.txt')\n",
    "import_data_2_1 = import_file_2_1.readlines()\n",
    "import_file_2_1.close()\n",
    "\n",
    "import_file_2_2 = open('import_file_2_2.txt')\n",
    "import_data_2_2 = import_file_2_2.readlines()\n",
    "import_file_2_2.close()\n",
    "\n",
    "for i, str in zip(import_data_2_2, import_data_2_1):\n",
    "\trange_arr = i.split()\n",
    "\tone = int(range_arr[0].replace('',''))\n",
    "\ttwo = int(range_arr[1].replace('',''))\n",
    "\tresult = str[one: two+1]\n",
    "\toutput_file = open(\"output_file_2.txt\", \"a\")\n",
    "\toutput_file.write(result)\n",
    "\tif (str != import_data_2_1[-1]):\n",
    "\t\toutput_file.write(' ')\n",
    "output_file.close()"
   ]
  },
  {
   "cell_type": "markdown",
   "id": "7ffb7d06",
   "metadata": {},
   "source": [
    "На вход поступает строка.\n",
    "В ней хранится набор химических символов (He, O, H, Mg, Fe, ...). Без пробелов.\n",
    "Нужно расшифровать химические символы в название химических элементов.\n",
    "Для удобства, прилагается json файл https://drive.google.com/file/d/1Z_NMWyS8VYdT6c9ZXt5NPbliSJkWI8Oo/view?usp=sharing , который ставит в соответствие химическому символу его химическое название.\n",
    "Как прочитать этот файл в словарь python (dict):\n",
    "\n",
    "periodic_table = json.load(open('periodic_table.json'))\n",
    "Пример входной строки:\n",
    "\n",
    "NOTiFICaTiON\n",
    "Пример выходной строки:\n",
    "\n",
    "АзотКислородТитанФторЙодКальцийТитанКислородАзот\n",
    "Обратите внимание, что, например, \"Bi\" - это \"Висмут\", а не \"БорЙод\".\n",
    "То есть регистр (заглавные или прописные) букв имеет значение.\n",
    "\n",
    "Входная строка содержится в файле, скачайте его.\n",
    "Полученную строку вставить в строку ниже. https://drive.google.com/file/d/1D8EGQBGEDWc6wTdMNhfEnpicyYRX5Sf3/view?usp=sharing "
   ]
  },
  {
   "cell_type": "code",
   "execution_count": 100,
   "id": "10574fdd",
   "metadata": {},
   "outputs": [],
   "source": [
    "import json\n",
    "import re\n",
    "periodic_table = json.load(open('periodic_table.json'))\n",
    "import_file_3 = open('import_file_3.txt')\n",
    "import_data_3 = import_file_3.readline()\n",
    "import_file_3.close()\n",
    "pars = re.sub(r'([A-Z])', r' \\1', import_data_3).split()\n",
    "for i in pars:\n",
    "\toutcome = periodic_table.get(i)\n",
    "\toutput_file = open(\"output_file_3.txt\", \"a\")\n",
    "\toutput_file.write(outcome)\n",
    "output_file.close()"
   ]
  },
  {
   "cell_type": "code",
   "execution_count": 95,
   "id": "c0dbe9a6",
   "metadata": {},
   "outputs": [
    {
     "name": "stdout",
     "output_type": "stream",
     "text": [
      "Хром\n",
      "Кобальт\n",
      "Радий\n",
      "Литий\n",
      "Борий\n"
     ]
    }
   ],
   "source": [
    "string = 'CrCoRaLiBh'\n",
    "parsing = re.sub(r'([A-Z])', r' \\1', string).split()\n",
    "for i in parsing:\n",
    "\toutcome = periodic_table.get(i)\n",
    "\tprint(outcome, sep='')"
   ]
  },
  {
   "cell_type": "code",
   "execution_count": null,
   "id": "c081d96d",
   "metadata": {},
   "outputs": [],
   "source": []
  }
 ],
 "metadata": {
  "kernelspec": {
   "display_name": "Python 3 (ipykernel)",
   "language": "python",
   "name": "python3"
  },
  "language_info": {
   "codemirror_mode": {
    "name": "ipython",
    "version": 3
   },
   "file_extension": ".py",
   "mimetype": "text/x-python",
   "name": "python",
   "nbconvert_exporter": "python",
   "pygments_lexer": "ipython3",
   "version": "3.9.10"
  }
 },
 "nbformat": 4,
 "nbformat_minor": 5
}
